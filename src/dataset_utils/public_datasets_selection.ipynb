{
 "cells": [
  {
   "cell_type": "markdown",
   "metadata": {},
   "source": [
    "# Preprocessing\n",
    "Converts the given datasets to obtain the dataset with binary masks annotations in the form R^{h×w×q}.\n",
    "\n",
    "## Datasets\n",
    "\n",
    "### DSB2018\n",
    "The Data Science Bowl 2018 dataset is taken from the following sources:\n",
    "- `DSB2018_train` **(664 images)**: version with fixed training masks from [lopuhin/kaggle-dsbowl-2018-dataset-fixes](https://github.com/lopuhin/kaggle-dsbowl-2018-dataset-fixes). These corrected annotations were used by the competition's best solutions. \n",
    "- `DSB2018_test1` **(65 images)**: `stage1_test` images were included from [yuanqing811/DSB2018_stage1_test](https://github.com/yuanqing811/DSB2018_stage1_test), who converted the file `stage1_solutions.csv`.\n",
    "- `DSB2018_test2` **(3019 images)**: `stage2_test_final` masks can be found at the Broad Institute's [Kaggle 2018 Data Science Bowl](https://bbbc.broadinstitute.org/BBBC038) page. Masks are converted by applying an adapted version of yuanqing811's algorithm\n",
    "\n",
    "### NSDE\n",
    "The NucleusSegData extended **(61 images)** is available at [https://mysite.ku.edu.tr/cgunduz/downloads/nucleussegdata/](https://mysite.ku.edu.tr/cgunduz/downloads/nucleussegdata/).\n",
    "\n",
    "### BBBC039\n",
    "The [Nuclei of U2OS cells in a chemical screen](https://bbbc.broadinstitute.org/BBBBC039) dataset **(200 images)** available from the Broad Institute contains some images already present in the `DSB2018_test2` dataset.\n",
    "\n",
    "Starts with 3686 images."
   ]
  },
  {
   "cell_type": "markdown",
   "metadata": {},
   "source": [
    "# Parameters and initialization\n",
    "Imports libraries and specifies the paths of datasets (already unzipped)."
   ]
  },
  {
   "cell_type": "code",
   "execution_count": null,
   "metadata": {},
   "outputs": [],
   "source": [
    "import os\n",
    "import shutil\n",
    "from distutils.dir_util import copy_tree\n",
    "from PIL import Image\n",
    "import json\n",
    "\n",
    "import cv2\n",
    "import numpy as np\n",
    "import pandas as pd\n",
    "import math\n",
    "from skimage.metrics import structural_similarity as ssim\n",
    "import skimage.io\n",
    "import skimage.morphology\n",
    "import random\n",
    "\n",
    "import matplotlib.pyplot as plt\n",
    "from pprint import pprint\n",
    "\n",
    "random.seed(42)"
   ]
  },
  {
   "cell_type": "code",
   "execution_count": 2,
   "metadata": {},
   "outputs": [],
   "source": [
    "# Working directory where to find original datasets, and where new datasets will be saved\n",
    "base_dir = \"path/to/datasets\"\n",
    "\n",
    "# Subfolder with original datasets\n",
    "original_subfolder = \"0_original_ds\"\n",
    "\n",
    "# Name of file containing dataset information\n",
    "json_ds_info = \"ds_info.json\"\n",
    "\n",
    "# Name of dataset with fixed training masks\n",
    "dsb2018_train_name = \"stage1_train\"\n",
    "\n",
    "# Name of dataset with test images and files\n",
    "dsb2018_test1_name = \"stage1_test\"\n",
    "\n",
    "# Name of dataset with test (phase 2) images and files\n",
    "dsb2018_test2_name = \"stage2_test_final\"\n",
    "\n",
    "# Stage2_test solution file\n",
    "test2_solutions_name = \"stage2_solution_final.csv\"\n",
    "\n",
    "# Pre-preprocessed test2 images\n",
    "dsb2018_test2_masked_name = \"stage2_test_final_masked\"\n",
    "\n",
    "# Name of the dataset with NSDE files\n",
    "nsde_name = \"NucleusSegDataExtended\"\n",
    "\n",
    "# Name of the BBBC039 dataset\n",
    "bbbc039_name = \"broadinstitute_BBBC039\"\n",
    "\n",
    "# Folder for relevant images converted to the DSB format\n",
    "dsb_format_folder = \"dsb_format_dataset\" "
   ]
  },
  {
   "cell_type": "code",
   "execution_count": null,
   "metadata": {},
   "outputs": [],
   "source": [
    "def create_folder(folder):\n",
    "\t\"\"\"Deletes a folder if it exists, then creates it\"\"\"\n",
    "\tif os.path.exists(folder) and os.path.isdir(folder):\n",
    "\t\tshutil.rmtree(folder)\n",
    "\tos.makedirs(folder)"
   ]
  },
  {
   "cell_type": "markdown",
   "metadata": {},
   "source": [
    "# DSB2018-specific preprocessing\n",
    "Computes and saves the masks of annotated images in `DSB2018_test2`."
   ]
  },
  {
   "cell_type": "code",
   "execution_count": 3,
   "metadata": {},
   "outputs": [],
   "source": [
    "# Adapted from https://github.com/yuanqing811/DSB2018_stage1_test\n",
    "def get_test_image_by_id(src_dir, img_id):\n",
    "\timg_path = os.path.join(src_dir, img_id, 'images', '%s.png' % img_id)\n",
    "\ttry:\n",
    "\t\treturn cv2.imread(img_path)[:, :, :3]\n",
    "\texcept:\n",
    "\t\treturn cv2.imread(img_path)\n",
    "\n",
    "def rle_decode(rle_list, mask_shape, mask_dtype):\n",
    "\tmask = np.zeros(np.prod(mask_shape), dtype=mask_dtype)\n",
    "\tfor j, rle in enumerate(rle_list):\n",
    "\t\ts = rle.split()\n",
    "\t\tstarts, lengths = [np.asarray(x, dtype=int) for x in (s[0:][::2], s[1:][::2])]\n",
    "\t\tstarts -= 1\n",
    "\t\tends = starts + lengths\n",
    "\t\tfor lo, hi in zip(starts, ends):\n",
    "\t\t\tmask[lo:hi] = (j+1)\n",
    "\n",
    "\treturn mask.reshape(mask_shape[::-1]).T\n",
    "\n",
    "def decode_submission(src_dir, dst_dir, solution_filename):\n",
    "\tdf = pd.read_csv(os.path.join(src_dir, solution_filename), sep=',')\n",
    "\ttest_id_list = sorted([test_id for test_id in os.listdir(src_dir) if not test_id.startswith('.') and not test_id.endswith('.csv')])\n",
    "\n",
    "\ttest_len = len(test_id_list)\n",
    "\tfor i, test_id in enumerate(test_id_list, start=1):\n",
    "\t\tmask_rles = df.loc[df['ImageId'] == test_id]\n",
    "\t\tif \"Ignored\" in mask_rles[\"Usage\"].tolist():\n",
    "\t\t\t# stage2_test_final dummy images are not considered\n",
    "\t\t\tcontinue\n",
    "\t\t\n",
    "\t\timg = get_test_image_by_id(src_dir, test_id)\n",
    "\t\trows, cols = img.shape[0], img.shape[1]\n",
    "\t\tprint(f\"Converting {i}/{test_len}                 \", end='\\r')\n",
    "\n",
    "\t\tmask = rle_decode(rle_list=mask_rles['EncodedPixels'], mask_shape=(rows, cols), mask_dtype=np.uint8)\n",
    "\t\tnum_masks = np.max(mask)\n",
    "\n",
    "\t\timage_dir = dst_dir + '/' + test_id + '/images/'\n",
    "\t\tos.makedirs(image_dir, exist_ok=True)\n",
    "\t\tshutil.copyfile(os.path.join(src_dir, test_id, 'images', test_id + '.png'), os.path.join(image_dir, test_id + '.png'))\n",
    "\n",
    "\t\tmask_dir = dst_dir + '/' + test_id + '/masks/'\n",
    "\t\tos.makedirs(mask_dir, exist_ok=True)\n",
    "\t\tfor i_mask in range(num_masks):\n",
    "\t\t\tc_mask = 255 * (mask == (i_mask + 1))\n",
    "\t\t\tmask_img_string = test_id + '_' + str(i_mask) + '.png'\n",
    "\t\t\tim = Image.fromarray(np.asarray(c_mask, dtype=np.uint8))\n",
    "\t\t\tim.save(mask_dir + mask_img_string)"
   ]
  },
  {
   "cell_type": "code",
   "execution_count": 4,
   "metadata": {},
   "outputs": [
    {
     "name": "stdout",
     "output_type": "stream",
     "text": [
      "Converting 3014/3019                 \n",
      "Kept 106/3019 images\n"
     ]
    }
   ],
   "source": [
    "test2_path = os.path.join(base_dir, original_subfolder, dsb2018_test2_name)\n",
    "masked_test2_path = os.path.join(base_dir, original_subfolder, dsb2018_test2_masked_name)\n",
    "create_folder(masked_test2_path)\n",
    "decode_submission(test2_path, masked_test2_path, test2_solutions_name)\n",
    "print(f\"\\nKept {len(os.listdir(masked_test2_path))}/{len(os.listdir(test2_path)) - 1} images\")"
   ]
  },
  {
   "cell_type": "markdown",
   "metadata": {},
   "source": [
    "The Data Science Bowl provided a dataset with 3 types of images, therefore selects only the ones obtained from fluorescence microscopy.\n",
    "\n",
    "Other images either\n",
    "- Are not grayscale\n",
    "- Have a much higher average pixel value\n",
    "\n",
    "Starts by copying all grayscale images to the new folder."
   ]
  },
  {
   "cell_type": "code",
   "execution_count": 5,
   "metadata": {},
   "outputs": [],
   "source": [
    "def is_grayscale(image):\n",
    "\t\"\"\"Checks if an image is grayscale by comparing its channels\"\"\"\n",
    "\tif len(image.shape) < 3 or image.shape[2] == 1:\n",
    "\t\t# If the image has only one channel, it is grayscale\n",
    "\t\treturn True\n",
    "\t# Otherwise, compare channels and return True if they are all equal\n",
    "\treturn (image[:, :, 0] == image[:, :, 1]).all() and (image[:, :, 1] == image[:, :, 2]).all()"
   ]
  },
  {
   "cell_type": "code",
   "execution_count": 6,
   "metadata": {},
   "outputs": [],
   "source": [
    "def copy_grayscale(dataset_name):\n",
    "\t\"\"\"Copies only grayscale images to the dsb_format_folder\"\"\"\n",
    "\t# Folder where to find images\n",
    "\torigin_dir = os.path.join(base_dir, original_subfolder, dataset_name)\n",
    "\tdestination_dir = os.path.join(base_dir, dsb_format_folder, dataset_name)\n",
    "\n",
    "\tfor image_id in os.listdir(origin_dir):\n",
    "\t\timage_path = os.path.join(origin_dir, image_id, \"images\", image_id + \".png\")\n",
    "\t\timage = cv2.imread(image_path, cv2.IMREAD_UNCHANGED)\n",
    "\t\tif is_grayscale(image):\n",
    "\t\t\tcopy_tree(os.path.join(origin_dir, image_id), os.path.join(destination_dir, image_id))\t"
   ]
  },
  {
   "cell_type": "code",
   "execution_count": 6,
   "metadata": {},
   "outputs": [],
   "source": [
    "dsb_path = os.path.join(base_dir, dsb_format_folder)\n",
    "dsb_train_path = os.path.join(dsb_path, dsb2018_train_name)\n",
    "dsb_test1_path = os.path.join(dsb_path, dsb2018_test1_name)\n",
    "dsb_test2_path = os.path.join(dsb_path, dsb2018_test2_masked_name)"
   ]
  },
  {
   "cell_type": "code",
   "execution_count": 8,
   "metadata": {},
   "outputs": [
    {
     "name": "stdout",
     "output_type": "stream",
     "text": [
      "Created folder C:/Users/rober/Desktop/datasets/1_dsb_format_reduced\\stage1_train\n",
      "Created folder C:/Users/rober/Desktop/datasets/1_dsb_format_reduced\\stage1_test\n",
      "Created folder C:/Users/rober/Desktop/datasets/1_dsb_format_reduced\\stage2_test_final_masked\n"
     ]
    }
   ],
   "source": [
    "create_folder(dsb_path)\n",
    "\n",
    "create_folder(dsb_train_path)\n",
    "copy_grayscale(dsb2018_train_name)\n",
    "\n",
    "create_folder(dsb_test1_path)\n",
    "copy_grayscale(dsb2018_test1_name)\n",
    "\n",
    "create_folder(dsb_test2_path)\n",
    "copy_grayscale(dsb2018_test2_masked_name)"
   ]
  },
  {
   "cell_type": "markdown",
   "metadata": {},
   "source": [
    "Looks for a threshold on the pixel mean of all the copied files."
   ]
  },
  {
   "cell_type": "code",
   "execution_count": 9,
   "metadata": {},
   "outputs": [
    {
     "data": {
      "image/png": "[encoded data removed]",
      "text/plain": [
       "<Figure size 1080x576 with 1 Axes>"
      ]
     },
     "metadata": {
      "needs_background": "light"
     },
     "output_type": "display_data"
    }
   ],
   "source": [
    "pixel_means = []\n",
    "for folder in os.listdir(dsb_path):\n",
    "\tfor image_id in os.listdir(os.path.join(dsb_path, folder)):\n",
    "\t\t\timage_path = os.path.join(dsb_path, folder, image_id, \"images\", image_id + \".png\")\n",
    "\t\t\timage = cv2.imread(image_path, cv2.IMREAD_UNCHANGED)\n",
    "\t\t\tpixel_means.append(np.mean(image))\n",
    "\n",
    "plt.figure(figsize=(15,8))\n",
    "plt.hist(pixel_means, bins=20)\n",
    "plt.xlabel(\"Pixel mean\")\n",
    "plt.ylabel(\"Number of images\")\n",
    "plt.title(\"Distribution of pixel means for grayscale images\")\n",
    "plt.show()"
   ]
  },
  {
   "cell_type": "markdown",
   "metadata": {},
   "source": [
    "Removes bright images by setting a threshold of 150. "
   ]
  },
  {
   "cell_type": "code",
   "execution_count": 19,
   "metadata": {},
   "outputs": [],
   "source": [
    "dsb_fluorescence_threshold = 150"
   ]
  },
  {
   "cell_type": "code",
   "execution_count": 11,
   "metadata": {},
   "outputs": [],
   "source": [
    "for folder in os.listdir(dsb_path):\n",
    "\tfor image_id in os.listdir(os.path.join(dsb_path, folder)):\n",
    "\t\t\timage_path = os.path.join(dsb_path, folder, image_id, \"images\", image_id + \".png\")\n",
    "\t\t\timage = cv2.imread(image_path, cv2.IMREAD_UNCHANGED)\n",
    "\t\t\tif np.mean(image) > dsb_fluorescence_threshold:\n",
    "\t\t\t\tshutil.rmtree(os.path.join(dsb_path, folder, image_id))"
   ]
  },
  {
   "cell_type": "markdown",
   "metadata": {},
   "source": [
    "# NSDE-specific preprocessing\n",
    "Converts annotations from the .gold format and converts images to grayscale."
   ]
  },
  {
   "cell_type": "code",
   "execution_count": 12,
   "metadata": {},
   "outputs": [
    {
     "name": "stdout",
     "output_type": "stream",
     "text": [
      "TrainingSet: converting image 25/25                               \n",
      "HepG2TestSet: converting image 25/25                               \n",
      "Huh7TestSet: converting image 11/11                               \n"
     ]
    }
   ],
   "source": [
    "def convert_nsde_to_dsb(dataset_folder, prefix):\n",
    "\t\"\"\"Converts images from the NSDE format to the DSB2018\"\"\"\n",
    "\torigin_dir = os.path.join(base_dir, original_subfolder, nsde_name, dataset_folder)\n",
    "\tdestination_dir = os.path.join(base_dir, dsb_format_folder, nsde_name)\n",
    "\t\n",
    "\t# Here I exploit the regularity in file names (prefix_n.(jpg|gold)) to avoid\n",
    "\t# cycling on files\n",
    "\ttotal = math.floor(len(os.listdir(origin_dir)) / 2)\n",
    "\tfor image_i in range(1, total + 1):\n",
    "\t\tprint(f\"{dataset_folder}: converting image {image_i}/{total}                               \", end='\\r')\n",
    "\n",
    "\t\t# Create folders for the dsb format\n",
    "\t\tid = prefix + str(image_i)\n",
    "\t\tnew_img_path = os.path.join(destination_dir, id)\n",
    "\t\tcreate_folder(new_img_path)\n",
    "\t\tcreate_folder(os.path.join(new_img_path, \"images\"))\n",
    "\t\tcreate_folder(os.path.join(new_img_path, \"masks\"))\n",
    "\t\t\n",
    "\t\t# Convert to grayscale and save the base image (as RGB to comply with the network)\n",
    "\t\tImage.open(os.path.join(origin_dir, id + \".jpg\")).convert(\"L\").convert(\"RGB\").save(os.path.join(new_img_path, \"images\", id + \".png\"))\n",
    "\n",
    "\t\t# Convert the .gold file\n",
    "\t\twith open(os.path.join(origin_dir, id + \".gold\"), \"r\") as mask_file:\n",
    "\t\t\t# The first row contains the image row×columns\n",
    "\t\t\tmask_shape = []\n",
    "\t\t\tfor d in mask_file.readline().split(\" \"):\n",
    "\t\t\t\tmask_shape.append(int(d))\n",
    "\n",
    "\t\t\t# Compute the mask\n",
    "\t\t\tmask = np.zeros(mask_shape)\n",
    "\t\t\trow = 0\n",
    "\t\t\tfor line in mask_file.readlines():\n",
    "\t\t\t\tcolumn = 0\n",
    "\t\t\t\tfor pixel in line.split(\" \"):\n",
    "\t\t\t\t\ttry:\n",
    "\t\t\t\t\t\tmask[row][column] = int(pixel)\n",
    "\t\t\t\t\texcept ValueError:\n",
    "\t\t\t\t\t\t# Ignore the \\n\n",
    "\t\t\t\t\t\tpass\n",
    "\t\t\t\t\tcolumn += 1\n",
    "\t\t\t\trow += 1\n",
    "\n",
    "\t\t\t# Save all the image's masks\n",
    "\t\t\tfor mask_id in range(1, int(np.max(mask)) + 1):\n",
    "\t\t\t\tImage.fromarray(np.where(mask == mask_id, 255, 0)).convert(\"RGB\").save(os.path.join(new_img_path, \"masks\", id + \"_\" + str(mask_id) + \".png\"))\n",
    "\tprint()\n",
    "\n",
    "create_folder(os.path.join(base_dir, dsb_format_folder, nsde_name))\n",
    "convert_nsde_to_dsb(\"TrainingSet\", \"tr\")\n",
    "convert_nsde_to_dsb(\"HepG2TestSet\", \"hepg2_ts\")\n",
    "convert_nsde_to_dsb(\"Huh7TestSet\", \"huh7_ts\")"
   ]
  },
  {
   "cell_type": "markdown",
   "metadata": {},
   "source": [
    "# BBBC039-specific preprocessing\n",
    "These images are potentially duplicates of the Data Science Bowl's. Masks need also to be converted in the DSB format. \n",
    "\n",
    "Images are normalized as well"
   ]
  },
  {
   "cell_type": "code",
   "execution_count": 3,
   "metadata": {},
   "outputs": [],
   "source": [
    "bbbc039_images_path = os.path.join(base_dir, original_subfolder, bbbc039_name, \"images\")\n",
    "bbbc039_masks_path = os.path.join(base_dir, original_subfolder, bbbc039_name, \"masks\")"
   ]
  },
  {
   "cell_type": "code",
   "execution_count": 21,
   "metadata": {},
   "outputs": [],
   "source": [
    "# Adapted from https://pyimagesearch.com/2014/09/15/python-compare-two-images/\n",
    "\n",
    "def mse(imageA, imageB):\n",
    "\terr = np.sum((imageA.astype(\"float\") - imageB.astype(\"float\")) ** 2)\n",
    "\terr /= float(imageA.shape[0] * imageA.shape[1])\n",
    "\treturn err\n",
    "\n",
    "def compare_images(imageA, imageB):\n",
    "\tif imageA.shape != imageB.shape:\n",
    "\t\treturn False\n",
    "\n",
    "\t# Compare normalized\n",
    "\tmin_1 = np.min(imageA)\n",
    "\tmax_1 = np.max(imageA)\n",
    "\tif min_1 != max_1:\n",
    "\t\timageA = ((imageA - min_1) / (max_1 - min_1))\n",
    "\tmin_2 = np.min(imageB)\n",
    "\tmax_2 = np.max(imageB)\n",
    "\tif min_2 != max_2:\n",
    "\t\timageB = ((imageB - min_2) / (max_2 - min_2))\n",
    "\t\t\n",
    "\t# Return true if images are similar\n",
    "\treturn mse(imageA, imageB) < 0.02 and ssim(imageA, imageB) > 0.98"
   ]
  },
  {
   "cell_type": "code",
   "execution_count": 22,
   "metadata": {},
   "outputs": [
    {
     "name": "stdout",
     "output_type": "stream",
     "text": [
      "Comparing with C:/Users/rober/Desktop/datasets/1_dsb_format_reduced\\stage1_train\n",
      "Analyzing 541/541: 200/200                    \n",
      "Comparing with C:/Users/rober/Desktop/datasets/1_dsb_format_reduced\\stage1_test\n",
      "Analyzing 53/53: 200/200                    \n",
      "Comparing with C:/Users/rober/Desktop/datasets/1_dsb_format_reduced\\stage2_test_final_masked\n",
      "Analyzing 84/84: 200/200                    \n",
      "\n",
      "Kept 157/200 images\n"
     ]
    }
   ],
   "source": [
    "bbc_convert_path = os.path.join(base_dir, dsb_format_folder, bbbc039_name)\n",
    "create_folder(bbc_convert_path)\n",
    "\n",
    "# Preloading all bbbc039 image sto speed up check\n",
    "bbbc039_images = {}\n",
    "bbc_len = len(os.listdir(bbbc039_images_path))\n",
    "for i, image in enumerate(os.listdir(bbbc039_images_path), start=1):\n",
    "\tprint(f\"Loading image {i}/{bbc_len}\", end='\\r')\n",
    "\tbbbc039_images[image] = cv2.imread(os.path.join(bbbc039_images_path, image), cv2.IMREAD_UNCHANGED)\n",
    "\n",
    "bbc_id_list = list(bbbc039_images.keys())\n",
    "bbc_len = len(bbbc039_images)\n",
    "for path in [dsb_train_path, dsb_test1_path, dsb_test2_path]:\n",
    "\tprint(\"Comparing with\", path)\n",
    "\t\n",
    "\tpath_content = os.listdir(os.path.join(path))\n",
    "\tlen_content = len(path_content)\n",
    "\tfor c_i, id in enumerate(path_content, start=1):\n",
    "\t\timage = cv2.imread(os.path.join(path, id, \"images\", id + \".png\"), cv2.IMREAD_GRAYSCALE)\n",
    "\t\tfor bbc_i, bbc in enumerate(bbc_id_list, start=1):\n",
    "\t\t\tif bbc in bbbc039_images:\n",
    "\t\t\t\tprint(f\"Analyzing {c_i}/{len_content}: {bbc_i}/{bbc_len}                    \", end='\\r')\n",
    "\t\t\t\tif compare_images(image, bbbc039_images[bbc]):\n",
    "\t\t\t\t\t# Can avoid further checks on the image\n",
    "\t\t\t\t\tdel bbbc039_images[bbc]\n",
    "\t\t\t\t\tcontinue\n",
    "\tprint()\n",
    "\t\n",
    "print(f\"\\nKept {len(bbbc039_images)}/{bbc_len} images\")"
   ]
  },
  {
   "cell_type": "code",
   "execution_count": 16,
   "metadata": {},
   "outputs": [],
   "source": [
    "# Adapted from https://gist.github.com/jccaicedo/15e811722fca51e3ae90e8b43057f075\n",
    "def save_masks(mask_path, mask_name, destination_path):\n",
    "\tgt = skimage.io.imread(os.path.join(mask_path, mask_name))\n",
    "\t# Keep first channel only\n",
    "\tgt = gt[:,:,0]\n",
    "\t# Label independent connected components\n",
    "\tgt = skimage.morphology.label(gt)\n",
    "\n",
    "\tgt_id = mask_name.split('.')[0]\n",
    "\tfor color in range(1, np.max(gt) + 1):\n",
    "\t\tmask = np.where(gt == color, 255, 0)\n",
    "\t\tImage.fromarray(mask).convert('RGB').save(os.path.join(destination_path, gt_id + \"_\" + str(color) + \".png\"))\n",
    "\treturn np.max(gt)"
   ]
  },
  {
   "cell_type": "code",
   "execution_count": 17,
   "metadata": {},
   "outputs": [
    {
     "name": "stdout",
     "output_type": "stream",
     "text": [
      "Converting image 60/157        \n",
      "Image IXMtest_F13_s7_w13C1B1D8C-293E-454F-B0FD-6C2C3F9F5173.tif contained no masks, removed.\n",
      "Converting image 111/157        \n",
      "Image IXMtest_L01_s2_w1E5038251-DBA3-44D0-BC37-E43E2FC8C174.tif contained no masks, removed.\n",
      "Converting image 116/157        \n",
      "Image IXMtest_L10_s6_w12D12D64C-2639-4CA8-9BB4-99F92C9B7068.tif contained no masks, removed.\n",
      "Converting image 157/157        \r"
     ]
    }
   ],
   "source": [
    "total = len(bbbc039_images)\n",
    "for i, item in enumerate(bbbc039_images.items(), start=1):\n",
    "\timage_name, image = item\n",
    "\tprint(f\"Converting image {i}/{total}        \", end='\\r')\n",
    "\tnew_path = os.path.join(base_dir, dsb_format_folder, bbbc039_name)\n",
    "\timage_id = image_name.split('.')[0]\n",
    "\tpng_image = image_id + \".png\"\n",
    "\n",
    "\t# Create the new folders\n",
    "\timage_path = os.path.join(new_path, image_id, \"images\")\n",
    "\tmasks_path = os.path.join(new_path, image_id, \"masks\")\n",
    "\tcreate_folder(image_path)\n",
    "\tcreate_folder(masks_path)\n",
    "\n",
    "\t# Save the images image\t\n",
    "\tImage.open(os.path.join(bbbc039_images_path, image_name)).save(os.path.join(image_path, png_image))\n",
    "\tn_saved = save_masks(bbbc039_masks_path, png_image, masks_path)\n",
    "\tif n_saved == 0:\n",
    "\t\t# The image was empty, removed\n",
    "\t\tshutil.rmtree(os.path.join(new_path, image_id))\n",
    "\t\tprint(f\"\\nImage {image_name} contained no masks, removed.\")"
   ]
  },
  {
   "cell_type": "markdown",
   "metadata": {},
   "source": [
    "After these steps, we have:\n",
    "- `DSB2018_train`: 541 images\n",
    "- `DSB2018_test1`: 53 images\n",
    "- `DSB2018_test2`: 84 images\n",
    "- `NSDE`: 61 images\n",
    "- `BBBC039`: 157 images\n",
    "\n",
    "For a total of 896 images."
   ]
  }
 ],
 "metadata": {
  "kernelspec": {
   "display_name": "Python 3.9.12 ('mask-rcnn-tfgpu')",
   "language": "python",
   "name": "python3"
  },
  "language_info": {
   "codemirror_mode": {
    "name": "ipython",
    "version": 3
   },
   "file_extension": ".py",
   "mimetype": "text/x-python",
   "name": "python",
   "nbconvert_exporter": "python",
   "pygments_lexer": "ipython3",
   "version": "3.9.12"
  },
  "orig_nbformat": 4,
  "vscode": {
   "interpreter": {
    "hash": "c041bb042a23209718a511bfed784b4ccaf94399a5d4d72733f3b958ed89122a"
   }
  }
 },
 "nbformat": 4,
 "nbformat_minor": 2
}
